{
 "cells": [
  {
   "cell_type": "code",
   "execution_count": null,
   "metadata": {},
   "outputs": [],
   "source": [
    "#@title Install and import necessary libraries\n",
    "%pip install -qU tool-parse[langchain] langchain-ollama langgraph duckduckgo-search\n",
    "\n",
    "from tool_parse.integrations.langchain import ExtendedStructuredTool, patch_chat_model\n",
    "\n",
    "import typing as t\n",
    "from duckduckgo_search import DDGS\n",
    "from langchain_core.messages import AIMessage, HumanMessage, ToolMessage\n",
    "from langchain_ollama.chat_models import ChatOllama\n",
    "from langgraph.checkpoint.memory import MemorySaver\n",
    "from langgraph.prebuilt import create_react_agent"
   ]
  },
  {
   "cell_type": "markdown",
   "metadata": {},
   "source": [
    "#### Define tools"
   ]
  },
  {
   "cell_type": "code",
   "execution_count": null,
   "metadata": {},
   "outputs": [],
   "source": [
    "async def search_text(\n",
    "    text: str,\n",
    "    *,\n",
    "    safe_search: bool = True,\n",
    "    backend: t.Literal[\"api\", \"html\", \"lite\"] = \"api\",\n",
    "    max_results: int = 1,\n",
    "):\n",
    "    \"\"\"\n",
    "    Search for text in the web.\n",
    "    :param text: Text to search for.\n",
    "    :param safe_search: If True, enable safe search.\n",
    "    :param backend: Backend to use for retrieving results.\n",
    "    :param max_results: Max results to return.\n",
    "    \"\"\"\n",
    "    return DDGS().text(\n",
    "        keywords=text,\n",
    "        safesearch=\"on\" if safe_search else \"off\",\n",
    "        backend=backend,\n",
    "        max_results=max_results,\n",
    "    )\n",
    "\n",
    "class ProductInfo(t.NamedTuple):  # Can be t.TypedDict or pydantic.BaseModel\n",
    "    \"\"\"\n",
    "    Information about the product.\n",
    "    :param name: Name of the product.\n",
    "    :param price: Price of the product.\n",
    "    :param in_stock: If the product is in stock.\n",
    "    \"\"\"\n",
    "\n",
    "    name: str\n",
    "    price: float\n",
    "    in_stock: bool = False\n",
    "\n",
    "tools = [\n",
    "    ExtendedStructuredTool(func=search_text),\n",
    "    ExtendedStructuredTool(func=ProductInfo, name=\"product_info\"),\n",
    "]\n",
    "# OR # tools = ExtendedStructuredTool.from_objects(search_text, ProductInfo)"
   ]
  },
  {
   "cell_type": "markdown",
   "metadata": {},
   "source": [
    "#### Patch the langchain chat model"
   ]
  },
  {
   "cell_type": "code",
   "execution_count": null,
   "metadata": {},
   "outputs": [],
   "source": [
    "model = patch_chat_model(ChatOllama(model=\"llama3-groq-tool-use\")) # Patch the instance\n",
    "# OR\n",
    "model = patch_chat_model(ChatOllama)(model=\"llama3-groq-tool-use\") # Patch the class and then instantiate it"
   ]
  },
  {
   "cell_type": "markdown",
   "metadata": {},
   "source": [
    "#### Create a react agent"
   ]
  },
  {
   "cell_type": "code",
   "execution_count": null,
   "metadata": {},
   "outputs": [],
   "source": [
    "agent_executor = create_react_agent(model, tools, checkpointer=MemorySaver())\n",
    "config = {\"configurable\": {\"thread_id\": \"abc123\"}}\n",
    "\n",
    "def query_agent(__query: str):\n",
    "    for chunk in agent_executor.stream({\"messages\": [HumanMessage(content=__query)]}, config):\n",
    "        message = list(chunk.values())[0][\"messages\"][0]\n",
    "        if isinstance(message, AIMessage):\n",
    "            print(\"[AGENT]\")\n",
    "            if message.tool_calls:\n",
    "                print(\"Calling tool:\")\n",
    "                metadata = message.tool_calls[0]\n",
    "                print(f\"name={metadata['name']!r}\")\n",
    "                print(f\"arguments={metadata['args']}\")\n",
    "            else:\n",
    "                print(message.content)\n",
    "        elif isinstance(message, ToolMessage):\n",
    "            print(f\"[{message.name!r} TOOL OUTPUT]\")\n",
    "            print(message.content)\n",
    "\n",
    "        print(\"---\" * 20)"
   ]
  },
  {
   "cell_type": "code",
   "execution_count": null,
   "metadata": {},
   "outputs": [],
   "source": [
    "query_agent(\"Search 5 sources for langgraph docs using lite backend\")"
   ]
  },
  {
   "cell_type": "code",
   "execution_count": null,
   "metadata": {},
   "outputs": [],
   "source": [
    "query_agent(\"Parse: Product RTX 4900, priced at $3.5k, is in stock.\")"
   ]
  }
 ],
 "metadata": {
  "kernelspec": {
   "display_name": "Python 3",
   "language": "python",
   "name": "python3"
  },
  "language_info": {
   "name": "python",
   "version": "3.10.11"
  }
 },
 "nbformat": 4,
 "nbformat_minor": 2
}
